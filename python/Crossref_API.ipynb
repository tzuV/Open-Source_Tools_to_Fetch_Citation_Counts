{
 "cells": [
  {
   "cell_type": "markdown",
   "id": "df6a81c8-c5c2-4e9a-962e-8421ed27011f",
   "metadata": {},
   "source": [
    "# crossrefapi\n",
    "link: https://github.com/fabiobatalha/crossrefapi"
   ]
  },
  {
   "cell_type": "code",
   "execution_count": 2,
   "id": "a2d7013f-2274-454b-89e3-f189363e10bf",
   "metadata": {},
   "outputs": [
    {
     "name": "stdout",
     "output_type": "stream",
     "text": [
      "Collecting crossrefapi\n",
      "  Downloading crossrefapi-1.7.0-py3-none-any.whl.metadata (587 bytes)\n",
      "Requirement already satisfied: ipython<9.0.0,>=8.28.0 in c:\\users\\jakob\\appdata\\local\\programs\\python\\python310\\lib\\site-packages (from crossrefapi) (8.34.0)\n",
      "Requirement already satisfied: requests<3.0.0,>=2.32.3 in c:\\users\\jakob\\appdata\\local\\programs\\python\\python310\\lib\\site-packages (from crossrefapi) (2.32.3)\n",
      "Collecting urllib3<3.0.0,>=2.2.3 (from crossrefapi)\n",
      "  Using cached urllib3-2.5.0-py3-none-any.whl.metadata (6.5 kB)\n",
      "Requirement already satisfied: colorama in c:\\users\\jakob\\appdata\\local\\programs\\python\\python310\\lib\\site-packages (from ipython<9.0.0,>=8.28.0->crossrefapi) (0.4.6)\n",
      "Requirement already satisfied: decorator in c:\\users\\jakob\\appdata\\local\\programs\\python\\python310\\lib\\site-packages (from ipython<9.0.0,>=8.28.0->crossrefapi) (5.2.1)\n",
      "Requirement already satisfied: exceptiongroup in c:\\users\\jakob\\appdata\\local\\programs\\python\\python310\\lib\\site-packages (from ipython<9.0.0,>=8.28.0->crossrefapi) (1.2.2)\n",
      "Requirement already satisfied: jedi>=0.16 in c:\\users\\jakob\\appdata\\local\\programs\\python\\python310\\lib\\site-packages (from ipython<9.0.0,>=8.28.0->crossrefapi) (0.19.2)\n",
      "Requirement already satisfied: matplotlib-inline in c:\\users\\jakob\\appdata\\local\\programs\\python\\python310\\lib\\site-packages (from ipython<9.0.0,>=8.28.0->crossrefapi) (0.1.7)\n",
      "Requirement already satisfied: prompt_toolkit<3.1.0,>=3.0.41 in c:\\users\\jakob\\appdata\\local\\programs\\python\\python310\\lib\\site-packages (from ipython<9.0.0,>=8.28.0->crossrefapi) (3.0.50)\n",
      "Requirement already satisfied: pygments>=2.4.0 in c:\\users\\jakob\\appdata\\local\\programs\\python\\python310\\lib\\site-packages (from ipython<9.0.0,>=8.28.0->crossrefapi) (2.19.1)\n",
      "Requirement already satisfied: stack_data in c:\\users\\jakob\\appdata\\local\\programs\\python\\python310\\lib\\site-packages (from ipython<9.0.0,>=8.28.0->crossrefapi) (0.6.3)\n",
      "Requirement already satisfied: traitlets>=5.13.0 in c:\\users\\jakob\\appdata\\local\\programs\\python\\python310\\lib\\site-packages (from ipython<9.0.0,>=8.28.0->crossrefapi) (5.14.3)\n",
      "Requirement already satisfied: typing_extensions>=4.6 in c:\\users\\jakob\\appdata\\local\\programs\\python\\python310\\lib\\site-packages (from ipython<9.0.0,>=8.28.0->crossrefapi) (4.14.1)\n",
      "Requirement already satisfied: wcwidth in c:\\users\\jakob\\appdata\\local\\programs\\python\\python310\\lib\\site-packages (from prompt_toolkit<3.1.0,>=3.0.41->ipython<9.0.0,>=8.28.0->crossrefapi) (0.2.13)\n",
      "Requirement already satisfied: charset-normalizer<4,>=2 in c:\\users\\jakob\\appdata\\local\\programs\\python\\python310\\lib\\site-packages (from requests<3.0.0,>=2.32.3->crossrefapi) (2.0.12)\n",
      "Requirement already satisfied: idna<4,>=2.5 in c:\\users\\jakob\\appdata\\local\\programs\\python\\python310\\lib\\site-packages (from requests<3.0.0,>=2.32.3->crossrefapi) (3.4)\n",
      "Requirement already satisfied: certifi>=2017.4.17 in c:\\users\\jakob\\appdata\\local\\programs\\python\\python310\\lib\\site-packages (from requests<3.0.0,>=2.32.3->crossrefapi) (2023.5.7)\n",
      "Requirement already satisfied: parso<0.9.0,>=0.8.4 in c:\\users\\jakob\\appdata\\local\\programs\\python\\python310\\lib\\site-packages (from jedi>=0.16->ipython<9.0.0,>=8.28.0->crossrefapi) (0.8.4)\n",
      "Requirement already satisfied: executing>=1.2.0 in c:\\users\\jakob\\appdata\\local\\programs\\python\\python310\\lib\\site-packages (from stack_data->ipython<9.0.0,>=8.28.0->crossrefapi) (2.2.0)\n",
      "Requirement already satisfied: asttokens>=2.1.0 in c:\\users\\jakob\\appdata\\local\\programs\\python\\python310\\lib\\site-packages (from stack_data->ipython<9.0.0,>=8.28.0->crossrefapi) (3.0.0)\n",
      "Requirement already satisfied: pure-eval in c:\\users\\jakob\\appdata\\local\\programs\\python\\python310\\lib\\site-packages (from stack_data->ipython<9.0.0,>=8.28.0->crossrefapi) (0.2.3)\n",
      "Downloading crossrefapi-1.7.0-py3-none-any.whl (14 kB)\n",
      "Using cached urllib3-2.5.0-py3-none-any.whl (129 kB)\n",
      "Installing collected packages: urllib3, crossrefapi\n",
      "\n",
      "  Attempting uninstall: urllib3\n",
      "\n",
      "    Found existing installation: urllib3 1.26.16\n",
      "\n",
      "    Uninstalling urllib3-1.26.16:\n",
      "\n",
      "      Successfully uninstalled urllib3-1.26.16\n",
      "\n",
      "   ---------------------------------------- 0/2 [urllib3]\n",
      "   ---------------------------------------- 0/2 [urllib3]\n",
      "   -------------------- ------------------- 1/2 [crossrefapi]\n",
      "   ---------------------------------------- 2/2 [crossrefapi]\n",
      "\n",
      "Successfully installed crossrefapi-1.7.0 urllib3-2.5.0\n"
     ]
    },
    {
     "name": "stderr",
     "output_type": "stream",
     "text": [
      "ERROR: pip's dependency resolver does not currently take into account all the packages that are installed. This behaviour is the source of the following dependency conflicts.\n",
      "google-auth 2.20.0 requires urllib3<2.0, but you have urllib3 2.5.0 which is incompatible.\n",
      "selenium 4.8.0 requires urllib3[socks]~=1.26, but you have urllib3 2.5.0 which is incompatible.\n",
      "tensorflow-intel 2.12.0 requires numpy<1.24,>=1.22, but you have numpy 1.26.4 which is incompatible.\n"
     ]
    }
   ],
   "source": [
    "!pip install crossrefapi"
   ]
  },
  {
   "cell_type": "code",
   "execution_count": 8,
   "id": "c8e6ad3b-e899-481b-b349-8a82440a4106",
   "metadata": {},
   "outputs": [
    {
     "name": "stdout",
     "output_type": "stream",
     "text": [
      "Paper: 'Congenital Zika virus syndrome'\n",
      "DOI: 10.1590/0102-311x00133115\n",
      "Citations indexed by Crossref: 0\n"
     ]
    }
   ],
   "source": [
    "from crossref.restful import Works\n",
    "\n",
    "works = Works()\n",
    "\n",
    "# DOI for the example in the readme\n",
    "paper_doi = \"10.1590/0102-311x00133115\"\n",
    "\n",
    "paper = works.doi(paper_doi)\n",
    "\n",
    "if paper:\n",
    "    title = paper.get('title', ['Not found'])[0]\n",
    "    doi = paper.get('DOI', 'Not found')\n",
    "    citation_count = paper.get('is-referenced-by-count', 0)\n",
    "\n",
    "    print(f\"Paper: '{title}'\")\n",
    "    print(f\"DOI: {doi}\")\n",
    "    print(f\"Citations indexed by Crossref: {citation_count}\")\n",
    "else:\n",
    "    print(f\"Could not find a paper with DOI: {paper_doi}\")"
   ]
  },
  {
   "cell_type": "code",
   "execution_count": 7,
   "id": "517fb11f-5037-4505-8364-5c15b3227812",
   "metadata": {},
   "outputs": [
    {
     "name": "stdout",
     "output_type": "stream",
     "text": [
      "Could not find a paper with DOI: 10.48550/arXiv.1706.03762\n"
     ]
    }
   ],
   "source": [
    "from crossref.restful import Works\n",
    "\n",
    "works = Works()\n",
    "\n",
    "# DOI for the original 2017 paper \"Attention Is All You Need\"\n",
    "paper_doi = \"10.48550/arXiv.1706.03762\"\n",
    "\n",
    "paper = works.doi(paper_doi)\n",
    "\n",
    "if paper:\n",
    "    title = paper.get('title', ['Not found'])[0]\n",
    "    doi = paper.get('DOI', 'Not found')\n",
    "    citation_count = paper.get('is-referenced-by-count', 0)\n",
    "\n",
    "    print(f\"Paper: '{title}'\")\n",
    "    print(f\"DOI: {doi}\")\n",
    "    print(f\"Citations indexed by Crossref: {citation_count}\")\n",
    "else:\n",
    "    print(f\"Could not find a paper with DOI: {paper_doi}\")"
   ]
  }
 ],
 "metadata": {
  "kernelspec": {
   "display_name": "Python 3 (ipykernel)",
   "language": "python",
   "name": "python3"
  },
  "language_info": {
   "codemirror_mode": {
    "name": "ipython",
    "version": 3
   },
   "file_extension": ".py",
   "mimetype": "text/x-python",
   "name": "python",
   "nbconvert_exporter": "python",
   "pygments_lexer": "ipython3",
   "version": "3.10.0"
  }
 },
 "nbformat": 4,
 "nbformat_minor": 5
}
