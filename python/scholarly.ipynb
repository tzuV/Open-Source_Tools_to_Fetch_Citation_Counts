{
 "cells": [
  {
   "cell_type": "markdown",
   "id": "10b99e57-434d-411e-b0a6-d8b2e95a4cf4",
   "metadata": {},
   "source": [
    "# scholarly\n",
    "\n",
    "A cool python library for pulling metadata about papers. Including citations. \n",
    "However, there are multiple functions for authors etc. But as i can see on the issues in the libraries, **it is only the search_pubs functions which works properly**\n",
    "\n",
    "link: https://github.com/scholarly-python-package/scholarly"
   ]
  },
  {
   "cell_type": "code",
   "execution_count": null,
   "id": "93f5bd0e-969c-4b37-922a-4ea8073fbfa8",
   "metadata": {},
   "outputs": [],
   "source": [
    "!pip install -U git+https://github.com/scholarly-python-package/scholarly.git"
   ]
  },
  {
   "cell_type": "code",
   "execution_count": 7,
   "id": "175eab18-0a4c-43ae-b596-fabbd84c0e52",
   "metadata": {},
   "outputs": [
    {
     "name": "stdout",
     "output_type": "stream",
     "text": [
      "b\"{'author_id': ['4bahYMkAAAAJ', 'ruUKktgAAAAJ', '9XRvM88AAAAJ'],\\n 'bib': {'abstract': 'Humans can judge from vision alone whether an object is '\\n                     'physically stable or not. Such judgments allow observers '\\n                     'to predict the physical behavior of objects, and hence '\\n                     'to guide their motor actions. We investigated the visual '\\n                     'estimation of physical stability of 3-D objects (shown '\\n                     'in stereoscopically viewed rendered scenes) and how it '\\n                     'relates to visual estimates of their center of mass '\\n                     '(COM). In Experiment 1, observers viewed an object near '\\n                     'the edge of a table and adjusted its tilt to the '\\n                     'perceived critical angle, ie, the tilt angle at which '\\n                     'the object',\\n         'author': ['SA Cholewiak', 'RW Fleming', 'M Singh'],\\n         'pub_year': '2015',\\n         'title': 'Perception of physical stability and center of mass of 3-D '\\n                  'objects',\\n         'venue': 'Journal of vision'},\\n 'citedby_url': '/scholar?cites=15736880631888070187&as_sdt=5,33&sciodt=0,33&hl=en',\\n 'eprint_url': 'https://jov.arvojournals.org/article.aspx?articleID=2213254',\\n 'filled': False,\\n 'gsrank': 1,\\n 'num_citations': 32,\\n 'pub_url': 'https://jov.arvojournals.org/article.aspx?articleID=2213254',\\n 'source': 'PUBLICATION_SEARCH_SNIPPET',\\n 'url_add_sclib': '/citations?hl=en&xsrf=&continue=/scholar%3Fq%3DPerception%2Bof%2Bphysical%2Bstability%2Band%2Bcenter%2Bof%2Bmass%2Bof%2B3D%2Bobjects%26hl%3Den%26as_sdt%3D0,33&citilm=1&update_op=library_add&info=K8ZpoI6hZNoJ&ei=m3ylaPumPJXVieoPtoHAGA&json=',\\n 'url_related_articles': '/scholar?q=related:K8ZpoI6hZNoJ:scholar.google.com/&scioq=Perception+of+physical+stability+and+center+of+mass+of+3D+objects&hl=en&as_sdt=0,33',\\n 'url_scholarbib': '/scholar?hl=en&q=info:K8ZpoI6hZNoJ:scholar.google.com/&output=cite&scirp=0&hl=en'}\"\n"
     ]
    }
   ],
   "source": [
    "from scholarly import scholarly\n",
    "\n",
    "search_query = scholarly.search_pubs('Perception of physical stability and center of mass of 3D objects')\n",
    "scholarly.pprint(next(search_query))"
   ]
  },
  {
   "cell_type": "code",
   "execution_count": 8,
   "id": "7f16a781-893e-4113-8452-be5ece5486c1",
   "metadata": {},
   "outputs": [
    {
     "name": "stdout",
     "output_type": "stream",
     "text": [
      "Number of citations: 32\n"
     ]
    }
   ],
   "source": [
    "search_query = scholarly.search_pubs('Perception of physical stability and center of mass of 3D objects')\n",
    "first_publication = next(search_query)\n",
    "citation_count = first_publication.get('num_citations', 0)\n",
    "print(f\"Number of citations: {citation_count}\")"
   ]
  },
  {
   "cell_type": "code",
   "execution_count": 9,
   "id": "95e354da-df77-4312-8b6f-0ca1cab610c2",
   "metadata": {},
   "outputs": [
    {
     "name": "stdout",
     "output_type": "stream",
     "text": [
      "b\"{'author_id': ['oR9sCGYAAAAJ', 'wsGvgA8AAAAJ', 'q2YXPSgAAAAJ'],\\n 'bib': {'abstract': 'to attend to all positions in the decoder up to and '\\n                     'including that position. We need to prevent   We '\\n                     'implement this inside of scaled dot-product attention by '\\n                     'masking out (setting to \\xe2\\x88\\x92\\xe2\\x88\\x9e)',\\n         'author': ['A Vaswani', 'N Shazeer', 'N Parmar'],\\n         'pub_year': '2017',\\n         'title': 'Attention is all you need',\\n         'venue': 'Advances in neural \\xe2\\x80\\xa6'},\\n 'citedby_url': '/scholar?cites=2960712678066186980&as_sdt=5,33&sciodt=0,33&hl=en',\\n 'eprint_url': 'https://proceedings.neurips.cc/paper/2017/file/3f5ee243547dee91fbd053c1c4a845aa-Paper.pdf',\\n 'filled': False,\\n 'gsrank': 1,\\n 'num_citations': 190292,\\n 'pub_url': 'https://proceedings.neurips.cc/paper/2017/hash/3f5ee243547dee91fbd053c1c4a845aa-Abstract.html',\\n 'source': 'PUBLICATION_SEARCH_SNIPPET',\\n 'url_add_sclib': '/citations?hl=en&xsrf=&continue=/scholar%3Fq%3DAttention%2Bis%2Ball%2Byou%2Bneed%26hl%3Den%26as_sdt%3D0,33&citilm=1&update_op=library_add&info=5Gohgn6QFikJ&ei=n3ylaP36DubTieoPktvT0Ag&json=',\\n 'url_related_articles': '/scholar?q=related:5Gohgn6QFikJ:scholar.google.com/&scioq=Attention+is+all+you+need&hl=en&as_sdt=0,33',\\n 'url_scholarbib': '/scholar?hl=en&q=info:5Gohgn6QFikJ:scholar.google.com/&output=cite&scirp=0&hl=en'}\"\n"
     ]
    }
   ],
   "source": [
    "search_query = scholarly.search_pubs('Attention is all you need')\n",
    "scholarly.pprint(next(search_query))"
   ]
  },
  {
   "cell_type": "code",
   "execution_count": 10,
   "id": "ccd5bbe2-1787-4e2c-a71f-ae28fd8a162d",
   "metadata": {},
   "outputs": [
    {
     "name": "stdout",
     "output_type": "stream",
     "text": [
      "Number of citations: 190292\n"
     ]
    }
   ],
   "source": [
    "search_query = scholarly.search_pubs('Attention is all you need')\n",
    "first_publication = next(search_query)\n",
    "citation_count = first_publication.get('num_citations', 0)\n",
    "print(f\"Number of citations: {citation_count}\")"
   ]
  },
  {
   "cell_type": "code",
   "execution_count": null,
   "id": "11b545aa-66c1-4793-97e4-7bd6e44cb5b3",
   "metadata": {},
   "outputs": [],
   "source": []
  }
 ],
 "metadata": {
  "kernelspec": {
   "display_name": "Python 3 (ipykernel)",
   "language": "python",
   "name": "python3"
  },
  "language_info": {
   "codemirror_mode": {
    "name": "ipython",
    "version": 3
   },
   "file_extension": ".py",
   "mimetype": "text/x-python",
   "name": "python",
   "nbconvert_exporter": "python",
   "pygments_lexer": "ipython3",
   "version": "3.10.0"
  }
 },
 "nbformat": 4,
 "nbformat_minor": 5
}
