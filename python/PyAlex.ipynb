{
 "cells": [
  {
   "cell_type": "markdown",
   "id": "61b1a2c3-ad0b-479d-bced-ddbe928b3ce5",
   "metadata": {},
   "source": [
    "# PyAlex \n",
    "link: https://github.com/J535D165/pyalex\n",
    "\n",
    "This is a really cool library with plenty of features! In the example code below, I only tried to retrieve the number of publications, but there is so much more to do, and people of interest should check it out. "
   ]
  },
  {
   "cell_type": "code",
   "execution_count": 1,
   "id": "c834ef07-659a-488f-b387-64cd7efa9f80",
   "metadata": {},
   "outputs": [
    {
     "name": "stdout",
     "output_type": "stream",
     "text": [
      "Collecting pyalex\n",
      "  Downloading pyalex-0.18-py3-none-any.whl.metadata (14 kB)\n",
      "Requirement already satisfied: requests in c:\\users\\jakob\\appdata\\local\\programs\\python\\python310\\lib\\site-packages (from pyalex) (2.32.3)\n",
      "Requirement already satisfied: urllib3 in c:\\users\\jakob\\appdata\\local\\programs\\python\\python310\\lib\\site-packages (from pyalex) (2.5.0)\n",
      "Requirement already satisfied: charset-normalizer<4,>=2 in c:\\users\\jakob\\appdata\\local\\programs\\python\\python310\\lib\\site-packages (from requests->pyalex) (2.0.12)\n",
      "Requirement already satisfied: idna<4,>=2.5 in c:\\users\\jakob\\appdata\\local\\programs\\python\\python310\\lib\\site-packages (from requests->pyalex) (3.4)\n",
      "Requirement already satisfied: certifi>=2017.4.17 in c:\\users\\jakob\\appdata\\local\\programs\\python\\python310\\lib\\site-packages (from requests->pyalex) (2023.5.7)\n",
      "Downloading pyalex-0.18-py3-none-any.whl (13 kB)\n",
      "Installing collected packages: pyalex\n",
      "Successfully installed pyalex-0.18\n"
     ]
    }
   ],
   "source": [
    "!pip install pyalex"
   ]
  },
  {
   "cell_type": "code",
   "execution_count": 4,
   "id": "b53c320c-a88f-4cff-b2b0-75250cb6742a",
   "metadata": {},
   "outputs": [
    {
     "name": "stdout",
     "output_type": "stream",
     "text": [
      "979\n"
     ]
    }
   ],
   "source": [
    "# example from the readme.txt\n",
    "from pyalex import Works \n",
    "\n",
    "work = Works()[\"W2741809807\"]\n",
    "\n",
    "citation_count = work[\"cited_by_count\"]\n",
    "\n",
    "print(citation_count)"
   ]
  },
  {
   "cell_type": "code",
   "execution_count": 6,
   "id": "9ba7f6b8-d43e-4db5-823e-427c44d7da36",
   "metadata": {},
   "outputs": [
    {
     "name": "stdout",
     "output_type": "stream",
     "text": [
      "60613\n"
     ]
    }
   ],
   "source": [
    "from pyalex import Works\n",
    "\n",
    "work = Works()[\"https://doi.org/10.48550/arXiv.1706.03762\"] # Attention is all you need \n",
    "\n",
    "citation_count = work[\"cited_by_count\"]\n",
    "\n",
    "print(citation_count)"
   ]
  }
 ],
 "metadata": {
  "kernelspec": {
   "display_name": "Python 3 (ipykernel)",
   "language": "python",
   "name": "python3"
  },
  "language_info": {
   "codemirror_mode": {
    "name": "ipython",
    "version": 3
   },
   "file_extension": ".py",
   "mimetype": "text/x-python",
   "name": "python",
   "nbconvert_exporter": "python",
   "pygments_lexer": "ipython3",
   "version": "3.10.0"
  }
 },
 "nbformat": 4,
 "nbformat_minor": 5
}
